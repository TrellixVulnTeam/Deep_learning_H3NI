{
 "cells": [
  {
   "cell_type": "code",
   "execution_count": 1,
   "metadata": {},
   "outputs": [
    {
     "name": "stdout",
     "output_type": "stream",
     "text": [
      "Requirement already up-to-date: tensorflow==2.* in /Users/Sushant/opt/anaconda3/lib/python3.7/site-packages (2.2.0)\n",
      "Requirement already satisfied, skipping upgrade: tensorboard<2.3.0,>=2.2.0 in /Users/Sushant/opt/anaconda3/lib/python3.7/site-packages (from tensorflow==2.*) (2.2.2)\n",
      "Requirement already satisfied, skipping upgrade: absl-py>=0.7.0 in /Users/Sushant/opt/anaconda3/lib/python3.7/site-packages (from tensorflow==2.*) (0.9.0)\n",
      "Requirement already satisfied, skipping upgrade: keras-preprocessing>=1.1.0 in /Users/Sushant/opt/anaconda3/lib/python3.7/site-packages (from tensorflow==2.*) (1.1.0)\n",
      "Requirement already satisfied, skipping upgrade: six>=1.12.0 in /Users/Sushant/opt/anaconda3/lib/python3.7/site-packages (from tensorflow==2.*) (1.12.0)\n",
      "Requirement already satisfied, skipping upgrade: astunparse==1.6.3 in /Users/Sushant/opt/anaconda3/lib/python3.7/site-packages (from tensorflow==2.*) (1.6.3)\n",
      "Requirement already satisfied, skipping upgrade: gast==0.3.3 in /Users/Sushant/opt/anaconda3/lib/python3.7/site-packages (from tensorflow==2.*) (0.3.3)\n",
      "Requirement already satisfied, skipping upgrade: scipy==1.4.1; python_version >= \"3\" in /Users/Sushant/opt/anaconda3/lib/python3.7/site-packages (from tensorflow==2.*) (1.4.1)\n",
      "Requirement already satisfied, skipping upgrade: wrapt>=1.11.1 in /Users/Sushant/opt/anaconda3/lib/python3.7/site-packages (from tensorflow==2.*) (1.11.2)\n",
      "Requirement already satisfied, skipping upgrade: grpcio>=1.8.6 in /Users/Sushant/opt/anaconda3/lib/python3.7/site-packages (from tensorflow==2.*) (1.26.0)\n",
      "Requirement already satisfied, skipping upgrade: numpy<2.0,>=1.16.0 in /Users/Sushant/opt/anaconda3/lib/python3.7/site-packages (from tensorflow==2.*) (1.17.2)\n",
      "Requirement already satisfied, skipping upgrade: termcolor>=1.1.0 in /Users/Sushant/opt/anaconda3/lib/python3.7/site-packages (from tensorflow==2.*) (1.1.0)\n",
      "Requirement already satisfied, skipping upgrade: h5py<2.11.0,>=2.10.0 in /Users/Sushant/opt/anaconda3/lib/python3.7/site-packages (from tensorflow==2.*) (2.10.0)\n",
      "Requirement already satisfied, skipping upgrade: google-pasta>=0.1.8 in /Users/Sushant/opt/anaconda3/lib/python3.7/site-packages (from tensorflow==2.*) (0.1.8)\n",
      "Requirement already satisfied, skipping upgrade: protobuf>=3.8.0 in /Users/Sushant/opt/anaconda3/lib/python3.7/site-packages (from tensorflow==2.*) (3.11.2)\n",
      "Requirement already satisfied, skipping upgrade: opt-einsum>=2.3.2 in /Users/Sushant/opt/anaconda3/lib/python3.7/site-packages (from tensorflow==2.*) (3.1.0)\n",
      "Requirement already satisfied, skipping upgrade: tensorflow-estimator<2.3.0,>=2.2.0 in /Users/Sushant/opt/anaconda3/lib/python3.7/site-packages (from tensorflow==2.*) (2.2.0)\n",
      "Requirement already satisfied, skipping upgrade: wheel>=0.26; python_version >= \"3\" in /Users/Sushant/opt/anaconda3/lib/python3.7/site-packages (from tensorflow==2.*) (0.33.6)\n",
      "Requirement already satisfied, skipping upgrade: google-auth-oauthlib<0.5,>=0.4.1 in /Users/Sushant/opt/anaconda3/lib/python3.7/site-packages (from tensorboard<2.3.0,>=2.2.0->tensorflow==2.*) (0.4.1)\n",
      "Requirement already satisfied, skipping upgrade: werkzeug>=0.11.15 in /Users/Sushant/opt/anaconda3/lib/python3.7/site-packages (from tensorboard<2.3.0,>=2.2.0->tensorflow==2.*) (0.16.0)\n",
      "Requirement already satisfied, skipping upgrade: requests<3,>=2.21.0 in /Users/Sushant/opt/anaconda3/lib/python3.7/site-packages (from tensorboard<2.3.0,>=2.2.0->tensorflow==2.*) (2.22.0)\n",
      "Requirement already satisfied, skipping upgrade: setuptools>=41.0.0 in /Users/Sushant/opt/anaconda3/lib/python3.7/site-packages (from tensorboard<2.3.0,>=2.2.0->tensorflow==2.*) (41.4.0)\n",
      "Requirement already satisfied, skipping upgrade: google-auth<2,>=1.6.3 in /Users/Sushant/opt/anaconda3/lib/python3.7/site-packages (from tensorboard<2.3.0,>=2.2.0->tensorflow==2.*) (1.10.0)\n",
      "Requirement already satisfied, skipping upgrade: markdown>=2.6.8 in /Users/Sushant/opt/anaconda3/lib/python3.7/site-packages (from tensorboard<2.3.0,>=2.2.0->tensorflow==2.*) (3.1.1)\n",
      "Requirement already satisfied, skipping upgrade: tensorboard-plugin-wit>=1.6.0 in /Users/Sushant/opt/anaconda3/lib/python3.7/site-packages (from tensorboard<2.3.0,>=2.2.0->tensorflow==2.*) (1.6.0.post3)\n",
      "Requirement already satisfied, skipping upgrade: requests-oauthlib>=0.7.0 in /Users/Sushant/opt/anaconda3/lib/python3.7/site-packages (from google-auth-oauthlib<0.5,>=0.4.1->tensorboard<2.3.0,>=2.2.0->tensorflow==2.*) (1.3.0)\n",
      "Requirement already satisfied, skipping upgrade: chardet<3.1.0,>=3.0.2 in /Users/Sushant/opt/anaconda3/lib/python3.7/site-packages (from requests<3,>=2.21.0->tensorboard<2.3.0,>=2.2.0->tensorflow==2.*) (3.0.4)\n",
      "Requirement already satisfied, skipping upgrade: urllib3!=1.25.0,!=1.25.1,<1.26,>=1.21.1 in /Users/Sushant/opt/anaconda3/lib/python3.7/site-packages (from requests<3,>=2.21.0->tensorboard<2.3.0,>=2.2.0->tensorflow==2.*) (1.24.2)\n",
      "Requirement already satisfied, skipping upgrade: idna<2.9,>=2.5 in /Users/Sushant/opt/anaconda3/lib/python3.7/site-packages (from requests<3,>=2.21.0->tensorboard<2.3.0,>=2.2.0->tensorflow==2.*) (2.8)\n",
      "Requirement already satisfied, skipping upgrade: certifi>=2017.4.17 in /Users/Sushant/opt/anaconda3/lib/python3.7/site-packages (from requests<3,>=2.21.0->tensorboard<2.3.0,>=2.2.0->tensorflow==2.*) (2019.9.11)\n",
      "Requirement already satisfied, skipping upgrade: cachetools<5.0,>=2.0.0 in /Users/Sushant/opt/anaconda3/lib/python3.7/site-packages (from google-auth<2,>=1.6.3->tensorboard<2.3.0,>=2.2.0->tensorflow==2.*) (4.0.0)\n",
      "Requirement already satisfied, skipping upgrade: rsa<4.1,>=3.1.4 in /Users/Sushant/opt/anaconda3/lib/python3.7/site-packages (from google-auth<2,>=1.6.3->tensorboard<2.3.0,>=2.2.0->tensorflow==2.*) (4.0)\n",
      "Requirement already satisfied, skipping upgrade: pyasn1-modules>=0.2.1 in /Users/Sushant/opt/anaconda3/lib/python3.7/site-packages (from google-auth<2,>=1.6.3->tensorboard<2.3.0,>=2.2.0->tensorflow==2.*) (0.2.8)\n",
      "Requirement already satisfied, skipping upgrade: oauthlib>=3.0.0 in /Users/Sushant/opt/anaconda3/lib/python3.7/site-packages (from requests-oauthlib>=0.7.0->google-auth-oauthlib<0.5,>=0.4.1->tensorboard<2.3.0,>=2.2.0->tensorflow==2.*) (3.1.0)\n",
      "Requirement already satisfied, skipping upgrade: pyasn1>=0.1.3 in /Users/Sushant/opt/anaconda3/lib/python3.7/site-packages (from rsa<4.1,>=3.1.4->google-auth<2,>=1.6.3->tensorboard<2.3.0,>=2.2.0->tensorflow==2.*) (0.4.8)\n",
      "Requirement already satisfied: pycocotools in /Users/Sushant/opt/anaconda3/lib/python3.7/site-packages (2.0.0)\n"
     ]
    }
   ],
   "source": [
    "!pip install -U --pre tensorflow==\"2.*\"\n",
    "!pip install pycocotools"
   ]
  },
  {
   "cell_type": "code",
   "execution_count": 2,
   "metadata": {},
   "outputs": [],
   "source": [
    "import os\n",
    "import pathlib\n",
    "\n",
    "\n",
    "if \"models\" in pathlib.Path.cwd().parts:\n",
    "  while \"models\" in pathlib.Path.cwd().parts:\n",
    "    os.chdir('..')\n",
    "elif not pathlib.Path('models').exists():\n",
    "  !git clone --depth 1 https://github.com/tensorflow/models"
   ]
  },
  {
   "cell_type": "code",
   "execution_count": 3,
   "metadata": {},
   "outputs": [
    {
     "name": "stdout",
     "output_type": "stream",
     "text": [
      "Processing /Users/Sushant/Desktop/Deep_learning/real_time_object_detection_tensorflow/models/research\n",
      "Requirement already satisfied: Pillow>=1.0 in /Users/Sushant/opt/anaconda3/lib/python3.7/site-packages (from object-detection==0.1) (6.2.0)\n",
      "Requirement already satisfied: Matplotlib>=2.1 in /Users/Sushant/opt/anaconda3/lib/python3.7/site-packages (from object-detection==0.1) (3.1.1)\n",
      "Requirement already satisfied: Cython>=0.28.1 in /Users/Sushant/.local/lib/python3.7/site-packages (from object-detection==0.1) (0.29.14)\n",
      "Requirement already satisfied: cycler>=0.10 in /Users/Sushant/opt/anaconda3/lib/python3.7/site-packages (from Matplotlib>=2.1->object-detection==0.1) (0.10.0)\n",
      "Requirement already satisfied: kiwisolver>=1.0.1 in /Users/Sushant/opt/anaconda3/lib/python3.7/site-packages (from Matplotlib>=2.1->object-detection==0.1) (1.1.0)\n",
      "Requirement already satisfied: pyparsing!=2.0.4,!=2.1.2,!=2.1.6,>=2.0.1 in /Users/Sushant/opt/anaconda3/lib/python3.7/site-packages (from Matplotlib>=2.1->object-detection==0.1) (2.4.2)\n",
      "Requirement already satisfied: python-dateutil>=2.1 in /Users/Sushant/opt/anaconda3/lib/python3.7/site-packages (from Matplotlib>=2.1->object-detection==0.1) (2.8.0)\n",
      "Requirement already satisfied: numpy>=1.11 in /Users/Sushant/opt/anaconda3/lib/python3.7/site-packages (from Matplotlib>=2.1->object-detection==0.1) (1.17.2)\n",
      "Requirement already satisfied: six in /Users/Sushant/opt/anaconda3/lib/python3.7/site-packages (from cycler>=0.10->Matplotlib>=2.1->object-detection==0.1) (1.12.0)\n",
      "Requirement already satisfied: setuptools in /Users/Sushant/opt/anaconda3/lib/python3.7/site-packages (from kiwisolver>=1.0.1->Matplotlib>=2.1->object-detection==0.1) (41.4.0)\n",
      "Building wheels for collected packages: object-detection\n",
      "  Building wheel for object-detection (setup.py): started\n",
      "  Building wheel for object-detection (setup.py): finished with status 'done'\n",
      "  Created wheel for object-detection: filename=object_detection-0.1-py3-none-any.whl size=1114249 sha256=02c17a8617a02a97d584e8a3fa02aa44b92d10cfcc1470687496b7320dec0d64\n",
      "  Stored in directory: /private/var/folders/2b/6c83wchs4v3gvzc9m21kdjhh0000gp/T/pip-ephem-wheel-cache-oz4t1oih/wheels/7d/23/c1/503f522fbcda255d9f90ec0fffb0180339bdc45cd699404472\n",
      "Successfully built object-detection\n",
      "Installing collected packages: object-detection\n",
      "  Attempting uninstall: object-detection\n",
      "    Found existing installation: object-detection 0.1\n",
      "    Uninstalling object-detection-0.1:\n",
      "      Successfully uninstalled object-detection-0.1\n",
      "Successfully installed object-detection-0.1\n"
     ]
    }
   ],
   "source": [
    "%%bash \n",
    "cd models/research \n",
    "pip install ."
   ]
  },
  {
   "cell_type": "code",
   "execution_count": 4,
   "metadata": {},
   "outputs": [],
   "source": [
    "import numpy as np\n",
    "import os\n",
    "import six.moves.urllib as urllib\n",
    "import sys\n",
    "import tarfile\n",
    "import tensorflow as tf\n",
    "import zipfile\n",
    "from collections import defaultdict\n",
    "from io import StringIO\n",
    "from matplotlib import pyplot as plt\n",
    "from PIL import Image\n",
    "from IPython.display import display"
   ]
  },
  {
   "cell_type": "code",
   "execution_count": 5,
   "metadata": {},
   "outputs": [
    {
     "name": "stdout",
     "output_type": "stream",
     "text": [
      "Requirement already satisfied: tf_slim in /Users/Sushant/opt/anaconda3/lib/python3.7/site-packages (1.1.0)\r\n",
      "Requirement already satisfied: absl-py>=0.2.2 in /Users/Sushant/opt/anaconda3/lib/python3.7/site-packages (from tf_slim) (0.9.0)\r\n",
      "Requirement already satisfied: six in /Users/Sushant/opt/anaconda3/lib/python3.7/site-packages (from absl-py>=0.2.2->tf_slim) (1.12.0)\r\n"
     ]
    }
   ],
   "source": [
    "!pip install tf_slim"
   ]
  },
  {
   "cell_type": "code",
   "execution_count": 6,
   "metadata": {},
   "outputs": [],
   "source": [
    "from object_detection.utils import ops as utils_ops\n",
    "from object_detection.utils import label_map_util\n",
    "from object_detection.utils import visualization_utils as vis_util"
   ]
  },
  {
   "cell_type": "code",
   "execution_count": 7,
   "metadata": {},
   "outputs": [],
   "source": [
    "# patch tf1 into `utils.ops`\n",
    "utils_ops.tf = tf.compat.v1\n",
    "# Patch the location of gfile\n",
    "tf.gfile = tf.io.gfile"
   ]
  },
  {
   "cell_type": "code",
   "execution_count": 8,
   "metadata": {},
   "outputs": [],
   "source": [
    "def Load_My_Model(Model_Name):\n",
    "  base_url = 'http://download.tensorflow.org/models/object_detection/'\n",
    "  model_file = Model_Name + '.tar.gz'\n",
    "  model_directory = tf.keras.utils.get_file(\n",
    "    fname=Model_Name, \n",
    "    origin=base_url + model_file,\n",
    "    untar=True)\n",
    "  model_directory = pathlib.Path(model_directory)/\"saved_model\"\n",
    "  my_model = tf.saved_model.load(str(model_directory))\n",
    "  my_model = my_model.signatures['serving_default']\n",
    "  return my_model"
   ]
  },
  {
   "cell_type": "code",
   "execution_count": 9,
   "metadata": {},
   "outputs": [],
   "source": [
    "# List of the strings that is used to add correct label for each box.\n",
    "PATH_TO_LABELS = 'models/research/object_detection/data/mscoco_label_map.pbtxt'\n",
    "category_index = label_map_util.create_category_index_from_labelmap(PATH_TO_LABELS, use_display_name=True)\n"
   ]
  },
  {
   "cell_type": "code",
   "execution_count": 10,
   "metadata": {},
   "outputs": [
    {
     "name": "stdout",
     "output_type": "stream",
     "text": [
      "INFO:tensorflow:Saver not created because there are no variables in the graph to restore\n"
     ]
    }
   ],
   "source": [
    "Model = 'ssd_mobilenet_v1_coco_2017_11_17'\n",
    "detection_model = Load_My_Model(Model)"
   ]
  },
  {
   "cell_type": "code",
   "execution_count": 11,
   "metadata": {},
   "outputs": [
    {
     "name": "stdout",
     "output_type": "stream",
     "text": [
      "[<tf.Tensor 'image_tensor:0' shape=(None, None, None, 3) dtype=uint8>]\n"
     ]
    },
    {
     "data": {
      "text/plain": [
       "{'num_detections': TensorShape([None]),\n",
       " 'detection_boxes': TensorShape([None, 100, 4]),\n",
       " 'detection_scores': TensorShape([None, 100]),\n",
       " 'detection_classes': TensorShape([None, 100])}"
      ]
     },
     "execution_count": 11,
     "metadata": {},
     "output_type": "execute_result"
    }
   ],
   "source": [
    "print(detection_model.inputs)\n",
    "detection_model.output_dtypes\n",
    "detection_model.output_shapes"
   ]
  },
  {
   "cell_type": "code",
   "execution_count": 12,
   "metadata": {},
   "outputs": [],
   "source": [
    "def detection_parameters(my_model, obj):\n",
    "  obj = np.asarray(obj)\n",
    "  # converting the input using `tf.convert_to_tensor`.\n",
    "  input_tensor_obj = tf.convert_to_tensor(obj)\n",
    "  \n",
    "  input_tensor_obj = input_tensor_obj[tf.newaxis,...]\n",
    "  # Run inference\n",
    "  output_dictionary = my_model(input_tensor_obj)\n",
    "  \n",
    "  \n",
    "  # considering only the first num_detection\n",
    "  num_detections = int(output_dictionary.pop('num_detections'))\n",
    "  output_dictionary = {key:val[0, :num_detections].numpy() \n",
    "                 for key,val in output_dictionary.items()}\n",
    "  output_dictionary['num_detections'] = num_detections\n",
    "  \n",
    "  output_dictionary['detection_classes'] = output_dictionary['detection_classes'].astype(np.int64)\n",
    "   \n",
    "  # Handle models with masks:\n",
    "  if 'detection_masks' in output_dictionary:\n",
    "    # Reframe the the box mask to the image size.\n",
    "    detection_masks_reframed = utils_ops.reframe_box_masks_to_image_masks(\n",
    "              output_dictionary['detection_masks'], output_dictionary['detection_boxes'],\n",
    "               obj.shape[0], obj.shape[1])      \n",
    "    detection_masks_reframed = tf.cast(detection_masks_reframed > 0.5,\n",
    "                                       tf.uint8)\n",
    "    output_dictionary['detection_masks_reframed'] = detection_masks_reframed.numpy()\n",
    "    \n",
    "  return output_dictionary"
   ]
  },
  {
   "cell_type": "code",
   "execution_count": 13,
   "metadata": {},
   "outputs": [
    {
     "name": "stdout",
     "output_type": "stream",
     "text": [
      "INFO:tensorflow:Saver not created because there are no variables in the graph to restore\n"
     ]
    }
   ],
   "source": [
    "model_name = \"mask_rcnn_inception_resnet_v2_atrous_coco_2018_01_28\"\n",
    "masking_model = Load_My_Model(\"mask_rcnn_inception_resnet_v2_atrous_coco_2018_01_28\")"
   ]
  },
  {
   "cell_type": "code",
   "execution_count": 14,
   "metadata": {},
   "outputs": [
    {
     "data": {
      "text/plain": [
       "{'detection_classes': TensorShape([None, 100]),\n",
       " 'detection_masks': TensorShape([None, None, None, None]),\n",
       " 'num_detections': TensorShape([None]),\n",
       " 'detection_boxes': TensorShape([None, 100, 4]),\n",
       " 'detection_scores': TensorShape([None, 100])}"
      ]
     },
     "execution_count": 14,
     "metadata": {},
     "output_type": "execute_result"
    }
   ],
   "source": [
    "masking_model.output_shapes"
   ]
  },
  {
   "cell_type": "code",
   "execution_count": null,
   "metadata": {},
   "outputs": [],
   "source": [
    "import cv2\n",
    "cap = cv2.VideoCapture(0)\n",
    "while True:\n",
    "        # Read frame from camera\n",
    "        ret, image_np = cap.read()\n",
    "       \n",
    "        # Actual detection.\n",
    "        output_dict = detection_parameters(detection_model, image_np)\n",
    "        # detected object visualization.\n",
    "        vis_util.visualize_boxes_and_labels_on_image_array(\n",
    "        image_np,\n",
    "        output_dict['detection_boxes'],\n",
    "        output_dict['detection_classes'],\n",
    "        output_dict['detection_scores'],\n",
    "        category_index,\n",
    "        instance_masks=output_dict.get('detection_masks_reframed', None),\n",
    "        use_normalized_coordinates=True,\n",
    "        line_thickness=8)\n",
    "       \n",
    "        cv2.imshow('object detection', cv2.resize(image_np, (800, 600)))\n",
    "        if cv2.waitKey(25) & 0xFF == ord('q'):\n",
    "                cv2.destroyAllWindows()\n",
    "                break"
   ]
  },
  {
   "cell_type": "code",
   "execution_count": null,
   "metadata": {},
   "outputs": [],
   "source": []
  }
 ],
 "metadata": {
  "kernelspec": {
   "display_name": "Python 3",
   "language": "python",
   "name": "python3"
  },
  "language_info": {
   "codemirror_mode": {
    "name": "ipython",
    "version": 3
   },
   "file_extension": ".py",
   "mimetype": "text/x-python",
   "name": "python",
   "nbconvert_exporter": "python",
   "pygments_lexer": "ipython3",
   "version": "3.7.4"
  }
 },
 "nbformat": 4,
 "nbformat_minor": 2
}
